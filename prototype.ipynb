{
 "cells": [
  {
   "cell_type": "code",
   "execution_count": 63,
   "metadata": {},
   "outputs": [],
   "source": [
    "import tempfile\n",
    "import math\n",
    "from io import BytesIO\n",
    "from google.cloud import storage\n",
    "import pandas as pd\n",
    "import numpy as np\n",
    "import tensorflow as tf\n",
    "from tensorflow_transform.tf_metadata import dataset_metadata\n",
    "from tensorflow_transform.tf_metadata import schema_utils\n",
    "import tensorflow_transform.beam as tft_beam\n",
    "import tensorflow_transform as tft\n",
    "import apache_beam as beam"
   ]
  },
  {
   "cell_type": "code",
   "execution_count": 2,
   "metadata": {},
   "outputs": [],
   "source": [
    "client = storage.Client()\n",
    "bucket = client.get_bucket('ames-house-dataset')\n",
    "blob = storage.Blob('train.csv', bucket)\n",
    "content = blob.download_as_string()\n",
    "data = pd.read_csv(BytesIO(content), index_col=0)"
   ]
  },
  {
   "cell_type": "code",
   "execution_count": 170,
   "metadata": {},
   "outputs": [],
   "source": [
    "CAT_FEATURES = ['GarageFinish', 'Neighborhood', 'BsmtQual',\n",
    "                'KitchenQual', 'GarageQual', 'CentralAir',\n",
    "                'GarageCond', 'LandContour', 'BsmtCond',\n",
    "                'GarageType', 'MSZoning']\n",
    "\n",
    "NUM_FEATURES = ['OverallQual', 'GarageArea', 'Fireplaces',\n",
    "                '2ndFlrSF', 'TotRmsAbvGrd', 'GarageCars',\n",
    "                'BsmtFinSF1', 'TotalBsmtSF', 'GarageYrBlt',\n",
    "                '1stFlrSF', 'GrLivArea', 'LotArea']\n",
    "\n",
    "TARGET = 'SalePrice'\n",
    "\n",
    "RAW_DATA_FEATURE_SPEC = dict(\n",
    "    [(name, tf.io.FixedLenFeature([], tf.string)) for name in CAT_FEATURES]\n",
    "    + [(name, tf.io.FixedLenFeature([], tf.float32)) for name in NUM_FEATURES]\n",
    "    + [(TARGET, tf.io.VarLenFeature(tf.float32))])"
   ]
  },
  {
   "cell_type": "code",
   "execution_count": 171,
   "metadata": {},
   "outputs": [],
   "source": [
    "RAW_DATA_METADATA = dataset_metadata.DatasetMetadata(schema_utils.schema_from_feature_spec(RAW_DATA_FEATURE_SPEC))"
   ]
  },
  {
   "cell_type": "code",
   "execution_count": 172,
   "metadata": {},
   "outputs": [
    {
     "data": {
      "text/plain": [
       "{'GarageFinish': FixedLenFeature(shape=[], dtype=tf.string, default_value=None),\n",
       " 'Neighborhood': FixedLenFeature(shape=[], dtype=tf.string, default_value=None),\n",
       " 'BsmtQual': FixedLenFeature(shape=[], dtype=tf.string, default_value=None),\n",
       " 'KitchenQual': FixedLenFeature(shape=[], dtype=tf.string, default_value=None),\n",
       " 'GarageQual': FixedLenFeature(shape=[], dtype=tf.string, default_value=None),\n",
       " 'CentralAir': FixedLenFeature(shape=[], dtype=tf.string, default_value=None),\n",
       " 'GarageCond': FixedLenFeature(shape=[], dtype=tf.string, default_value=None),\n",
       " 'LandContour': FixedLenFeature(shape=[], dtype=tf.string, default_value=None),\n",
       " 'BsmtCond': FixedLenFeature(shape=[], dtype=tf.string, default_value=None),\n",
       " 'GarageType': FixedLenFeature(shape=[], dtype=tf.string, default_value=None),\n",
       " 'MSZoning': FixedLenFeature(shape=[], dtype=tf.string, default_value=None),\n",
       " 'OverallQual': FixedLenFeature(shape=[], dtype=tf.float32, default_value=None),\n",
       " 'GarageArea': FixedLenFeature(shape=[], dtype=tf.float32, default_value=None),\n",
       " 'Fireplaces': FixedLenFeature(shape=[], dtype=tf.float32, default_value=None),\n",
       " '2ndFlrSF': FixedLenFeature(shape=[], dtype=tf.float32, default_value=None),\n",
       " 'TotRmsAbvGrd': FixedLenFeature(shape=[], dtype=tf.float32, default_value=None),\n",
       " 'GarageCars': FixedLenFeature(shape=[], dtype=tf.float32, default_value=None),\n",
       " 'BsmtFinSF1': FixedLenFeature(shape=[], dtype=tf.float32, default_value=None),\n",
       " 'TotalBsmtSF': FixedLenFeature(shape=[], dtype=tf.float32, default_value=None),\n",
       " 'GarageYrBlt': FixedLenFeature(shape=[], dtype=tf.float32, default_value=None),\n",
       " '1stFlrSF': FixedLenFeature(shape=[], dtype=tf.float32, default_value=None),\n",
       " 'GrLivArea': FixedLenFeature(shape=[], dtype=tf.float32, default_value=None),\n",
       " 'LotArea': FixedLenFeature(shape=[], dtype=tf.float32, default_value=None),\n",
       " 'SalePrice': VarLenFeature(dtype=tf.float32)}"
      ]
     },
     "execution_count": 172,
     "metadata": {},
     "output_type": "execute_result"
    }
   ],
   "source": [
    "RAW_DATA_FEATURE_SPEC"
   ]
  },
  {
   "cell_type": "code",
   "execution_count": 255,
   "metadata": {},
   "outputs": [],
   "source": [
    "def preprocessing_fn(inputs):\n",
    "    outputs = inputs.copy()\n",
    "\n",
    "    for key in ['1stFlrSF', 'GrLivArea', 'LotArea']:\n",
    "        outputs[key] = tf.math.log(outputs[key])\n",
    "\n",
    "    return {'1stFlrSF': outputs['1stFlrSF'],\n",
    "            'GrLivArea': outputs['GrLivArea'],\n",
    "            'LotArea': outputs['LotArea']}"
   ]
  },
  {
   "cell_type": "code",
   "execution_count": 256,
   "metadata": {},
   "outputs": [
    {
     "name": "stdout",
     "output_type": "stream",
     "text": [
      "WARNING:tensorflow:Tensorflow version (2.1.0) found. Note that Tensorflow Transform support for TF 2.0 is currently in beta, and features such as tf.function may not work as intended. \n"
     ]
    },
    {
     "name": "stderr",
     "output_type": "stream",
     "text": [
      "WARNING:tensorflow:Tensorflow version (2.1.0) found. Note that Tensorflow Transform support for TF 2.0 is currently in beta, and features such as tf.function may not work as intended. \n"
     ]
    },
    {
     "name": "stdout",
     "output_type": "stream",
     "text": [
      "WARNING:tensorflow:Tensorflow version (2.1.0) found. Note that Tensorflow Transform support for TF 2.0 is currently in beta, and features such as tf.function may not work as intended. \n"
     ]
    },
    {
     "name": "stderr",
     "output_type": "stream",
     "text": [
      "WARNING:tensorflow:Tensorflow version (2.1.0) found. Note that Tensorflow Transform support for TF 2.0 is currently in beta, and features such as tf.function may not work as intended. \n"
     ]
    },
    {
     "name": "stdout",
     "output_type": "stream",
     "text": [
      "INFO:tensorflow:Assets added to graph.\n"
     ]
    },
    {
     "name": "stderr",
     "output_type": "stream",
     "text": [
      "INFO:tensorflow:Assets added to graph.\n"
     ]
    },
    {
     "name": "stdout",
     "output_type": "stream",
     "text": [
      "INFO:tensorflow:No assets to write.\n"
     ]
    },
    {
     "name": "stderr",
     "output_type": "stream",
     "text": [
      "INFO:tensorflow:No assets to write.\n"
     ]
    },
    {
     "name": "stdout",
     "output_type": "stream",
     "text": [
      "INFO:tensorflow:SavedModel written to: /var/folders/kv/kjpm8x653fz2vnzbl7q4bwhmbf_6tj/T/tmpeht2wkwg/tftransform_tmp/a981f8deaef74708b459673b8164e77b/saved_model.pb\n"
     ]
    },
    {
     "name": "stderr",
     "output_type": "stream",
     "text": [
      "INFO:tensorflow:SavedModel written to: /var/folders/kv/kjpm8x653fz2vnzbl7q4bwhmbf_6tj/T/tmpeht2wkwg/tftransform_tmp/a981f8deaef74708b459673b8164e77b/saved_model.pb\n"
     ]
    },
    {
     "name": "stdout",
     "output_type": "stream",
     "text": [
      "WARNING:tensorflow:Tensorflow version (2.1.0) found. Note that Tensorflow Transform support for TF 2.0 is currently in beta, and features such as tf.function may not work as intended. \n"
     ]
    },
    {
     "name": "stderr",
     "output_type": "stream",
     "text": [
      "WARNING:tensorflow:Tensorflow version (2.1.0) found. Note that Tensorflow Transform support for TF 2.0 is currently in beta, and features such as tf.function may not work as intended. \n"
     ]
    },
    {
     "name": "stdout",
     "output_type": "stream",
     "text": [
      "INFO:tensorflow:Saver not created because there are no variables in the graph to restore\n"
     ]
    },
    {
     "name": "stderr",
     "output_type": "stream",
     "text": [
      "INFO:tensorflow:Saver not created because there are no variables in the graph to restore\n"
     ]
    },
    {
     "name": "stdout",
     "output_type": "stream",
     "text": [
      "INFO:tensorflow:Saver not created because there are no variables in the graph to restore\n"
     ]
    },
    {
     "name": "stderr",
     "output_type": "stream",
     "text": [
      "INFO:tensorflow:Saver not created because there are no variables in the graph to restore\n"
     ]
    }
   ],
   "source": [
    "with beam.Pipeline() as pipeline:\n",
    "    with tft_beam.Context(temp_dir=tempfile.mkdtemp()):\n",
    "        transformed_dataset, transform_fn = ((data.to_dict(orient='records'), RAW_DATA_METADATA) | tft_beam.AnalyzeAndTransformDataset(preprocessing_fn))\n",
    "        transformed_data, transformed_metadata = transformed_dataset"
   ]
  },
  {
   "cell_type": "code",
   "execution_count": 257,
   "metadata": {},
   "outputs": [
    {
     "data": {
      "text/plain": [
       "[{'1stFlrSF': 6.75227, 'GrLivArea': 7.4442487, 'LotArea': 9.041922},\n",
       " {'1stFlrSF': 7.140453, 'GrLivArea': 7.140453, 'LotArea': 9.169518},\n",
       " {'1stFlrSF': 6.8243737, 'GrLivArea': 7.487734, 'LotArea': 9.328123},\n",
       " {'1stFlrSF': 6.8679743, 'GrLivArea': 7.4483337, 'LotArea': 9.164296},\n",
       " {'1stFlrSF': 7.04316, 'GrLivArea': 7.695303, 'LotArea': 9.565214}]"
      ]
     },
     "execution_count": 257,
     "metadata": {},
     "output_type": "execute_result"
    }
   ],
   "source": [
    "transformed_data[:5]"
   ]
  },
  {
   "cell_type": "code",
   "execution_count": null,
   "metadata": {},
   "outputs": [],
   "source": []
  }
 ],
 "metadata": {
  "kernelspec": {
   "display_name": "Python 3",
   "language": "python",
   "name": "python3"
  },
  "language_info": {
   "codemirror_mode": {
    "name": "ipython",
    "version": 3
   },
   "file_extension": ".py",
   "mimetype": "text/x-python",
   "name": "python",
   "nbconvert_exporter": "python",
   "pygments_lexer": "ipython3",
   "version": "3.7.6"
  }
 },
 "nbformat": 4,
 "nbformat_minor": 4
}
