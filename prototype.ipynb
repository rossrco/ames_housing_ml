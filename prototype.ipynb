{
 "cells": [
  {
   "cell_type": "code",
   "execution_count": 2,
   "metadata": {},
   "outputs": [],
   "source": [
    "from io import BytesIO\n",
    "from google.cloud import storage\n",
    "import pandas as pd\n",
    "import numpy as np\n",
    "import tensorflow as tf\n",
    "from tensorflow_transform.tf_metadata import dataset_metadata\n",
    "from tensorflow_transform.tf_metadata import schema_utils"
   ]
  },
  {
   "cell_type": "code",
   "execution_count": 3,
   "metadata": {},
   "outputs": [],
   "source": [
    "client = storage.Client()\n",
    "bucket = client.get_bucket('ames-house-dataset')\n",
    "blob = storage.Blob('train.csv', bucket)\n",
    "content = blob.download_as_string()\n",
    "data = pd.read_csv(BytesIO(content), index_col=0)"
   ]
  },
  {
   "cell_type": "code",
   "execution_count": 17,
   "metadata": {},
   "outputs": [],
   "source": [
    "d_with_nulls = data.dtypes[data.isna().sum() > 0]\n",
    "d_no_nulls = data.dtypes[data.isna().sum() == 0]\n",
    "\n",
    "d_with_nulls_cat = d_with_nulls[d_with_nulls == np.dtype('O')]\n",
    "d_with_nulls_num = d_with_nulls[d_with_nulls.isin([np.dtype('int64'), np.dtype('float64')])]\n",
    "\n",
    "d_no_nulls_cat = d_no_nulls[d_no_nulls == np.dtype('O')]\n",
    "d_no_nulls_num = d_no_nulls[d_no_nulls.isin([np.dtype('int64'), np.dtype('float64')])]\n",
    "\n",
    "OPT_CAT_FEATURES = d_with_nulls_cat.index.to_list()\n",
    "OPT_NUM_FEATURES = d_with_nulls_num.index.to_list()\n",
    "CAT_FEATURES = d_no_nulls_cat.index.to_list()\n",
    "NUM_FEATURES = d_no_nulls_num.index.to_list()\n",
    "TARGET = 'SalePrice'\n",
    "\n",
    "RAW_DATA_FEATURE_SPEC = dict(\n",
    "    [(name, tf.io.FixedLenFeature([], tf.string))\n",
    "     for name in CAT_FEATURES]\n",
    "    + [(name, tf.io.FixedLenFeature([], tf.float32))\n",
    "       for name in NUM_FEATURES]\n",
    "    + [(name, tf.io.VarLenFeature(tf.string))\n",
    "       for name in OPT_CAT_FEATURES]\n",
    "    + [(name, tf.io.VarLenFeature(tf.float32))\n",
    "       for name in OPT_NUM_FEATURES]\n",
    "    + [(TARGET, tf.io.VarLenFeature(tf.float32))])"
   ]
  },
  {
   "cell_type": "code",
   "execution_count": 10,
   "metadata": {},
   "outputs": [],
   "source": [
    "RAW_DATA_FEATURE_SPEC = get_raw_data_spec(data)\n",
    "RAW_DATA_METADATA = dataset_metadata.DatasetMetadata(schema_utils.schema_from_feature_spec(RAW_DATA_FEATURE_SPEC))"
   ]
  },
  {
   "cell_type": "code",
   "execution_count": null,
   "metadata": {},
   "outputs": [],
   "source": []
  }
 ],
 "metadata": {
  "kernelspec": {
   "display_name": "Python 3",
   "language": "python",
   "name": "python3"
  },
  "language_info": {
   "codemirror_mode": {
    "name": "ipython",
    "version": 3
   },
   "file_extension": ".py",
   "mimetype": "text/x-python",
   "name": "python",
   "nbconvert_exporter": "python",
   "pygments_lexer": "ipython3",
   "version": "3.7.6"
  }
 },
 "nbformat": 4,
 "nbformat_minor": 4
}
