{
 "cells": [
  {
   "cell_type": "code",
   "execution_count": 1,
   "metadata": {},
   "outputs": [],
   "source": [
    "import tempfile\n",
    "import math\n",
    "from io import BytesIO\n",
    "from google.cloud import storage\n",
    "import pandas as pd\n",
    "import numpy as np\n",
    "import tensorflow as tf\n",
    "from tensorflow_transform.tf_metadata import dataset_metadata\n",
    "from tensorflow_transform.tf_metadata import schema_utils\n",
    "import tensorflow_transform.beam as tft_beam\n",
    "import tensorflow_transform as tft\n",
    "import apache_beam as beam\n",
    "from sklearn import model_selection"
   ]
  },
  {
   "cell_type": "code",
   "execution_count": 2,
   "metadata": {},
   "outputs": [],
   "source": [
    "client = storage.Client()\n",
    "bucket = client.get_bucket('ames-house-dataset')\n",
    "blob = storage.Blob('train.csv', bucket)\n",
    "content = blob.download_as_string()\n",
    "data = pd.read_csv(BytesIO(content), index_col=0)"
   ]
  },
  {
   "cell_type": "code",
   "execution_count": 3,
   "metadata": {},
   "outputs": [],
   "source": [
    "train, test = model_selection.train_test_split(data, test_size=0.2, random_state=42)"
   ]
  },
  {
   "cell_type": "code",
   "execution_count": 4,
   "metadata": {},
   "outputs": [],
   "source": [
    "CAT_FEATURES = ['GarageFinish', 'Neighborhood', 'BsmtQual',\n",
    "                'KitchenQual', 'GarageQual', 'CentralAir',\n",
    "                'GarageCond', 'LandContour', 'BsmtCond',\n",
    "                'GarageType', 'MSZoning']\n",
    "\n",
    "NUM_FEATURES = ['OverallQual', 'GarageArea', 'Fireplaces',\n",
    "                '2ndFlrSF', 'TotRmsAbvGrd', 'GarageCars',\n",
    "                'BsmtFinSF1', 'TotalBsmtSF', 'GarageYrBlt',\n",
    "                '1stFlrSF', 'GrLivArea', 'LotArea']\n",
    "\n",
    "OPT_CAT_FEATURES = ['GarageFinish', 'GarageQual', 'GarageCond',\n",
    "                    'GarageType', 'BsmtQual', 'BsmtCond']\n",
    "\n",
    "OPT_NUM_FEATURES = ['GarageYrBlt']\n",
    "\n",
    "TARGET = 'SalePrice'\n",
    "\n",
    "RAW_DATA_FEATURE_SPEC = dict(\n",
    "    [(name, tf.io.FixedLenFeature([], tf.string)) for name in CAT_FEATURES]\n",
    "    + [(name, tf.io.FixedLenFeature([], tf.float32)) for name in NUM_FEATURES]\n",
    "    + [(TARGET, tf.io.VarLenFeature(tf.float32))])"
   ]
  },
  {
   "cell_type": "code",
   "execution_count": 5,
   "metadata": {},
   "outputs": [],
   "source": [
    "RAW_DATA_METADATA = dataset_metadata.DatasetMetadata(schema_utils.schema_from_feature_spec(RAW_DATA_FEATURE_SPEC))"
   ]
  },
  {
   "cell_type": "code",
   "execution_count": 6,
   "metadata": {},
   "outputs": [
    {
     "data": {
      "text/plain": [
       "{'GarageFinish': FixedLenFeature(shape=[], dtype=tf.string, default_value=None),\n",
       " 'Neighborhood': FixedLenFeature(shape=[], dtype=tf.string, default_value=None),\n",
       " 'BsmtQual': FixedLenFeature(shape=[], dtype=tf.string, default_value=None),\n",
       " 'KitchenQual': FixedLenFeature(shape=[], dtype=tf.string, default_value=None),\n",
       " 'GarageQual': FixedLenFeature(shape=[], dtype=tf.string, default_value=None),\n",
       " 'CentralAir': FixedLenFeature(shape=[], dtype=tf.string, default_value=None),\n",
       " 'GarageCond': FixedLenFeature(shape=[], dtype=tf.string, default_value=None),\n",
       " 'LandContour': FixedLenFeature(shape=[], dtype=tf.string, default_value=None),\n",
       " 'BsmtCond': FixedLenFeature(shape=[], dtype=tf.string, default_value=None),\n",
       " 'GarageType': FixedLenFeature(shape=[], dtype=tf.string, default_value=None),\n",
       " 'MSZoning': FixedLenFeature(shape=[], dtype=tf.string, default_value=None),\n",
       " 'OverallQual': FixedLenFeature(shape=[], dtype=tf.float32, default_value=None),\n",
       " 'GarageArea': FixedLenFeature(shape=[], dtype=tf.float32, default_value=None),\n",
       " 'Fireplaces': FixedLenFeature(shape=[], dtype=tf.float32, default_value=None),\n",
       " '2ndFlrSF': FixedLenFeature(shape=[], dtype=tf.float32, default_value=None),\n",
       " 'TotRmsAbvGrd': FixedLenFeature(shape=[], dtype=tf.float32, default_value=None),\n",
       " 'GarageCars': FixedLenFeature(shape=[], dtype=tf.float32, default_value=None),\n",
       " 'BsmtFinSF1': FixedLenFeature(shape=[], dtype=tf.float32, default_value=None),\n",
       " 'TotalBsmtSF': FixedLenFeature(shape=[], dtype=tf.float32, default_value=None),\n",
       " 'GarageYrBlt': FixedLenFeature(shape=[], dtype=tf.float32, default_value=None),\n",
       " '1stFlrSF': FixedLenFeature(shape=[], dtype=tf.float32, default_value=None),\n",
       " 'GrLivArea': FixedLenFeature(shape=[], dtype=tf.float32, default_value=None),\n",
       " 'LotArea': FixedLenFeature(shape=[], dtype=tf.float32, default_value=None),\n",
       " 'SalePrice': VarLenFeature(dtype=tf.float32)}"
      ]
     },
     "execution_count": 6,
     "metadata": {},
     "output_type": "execute_result"
    }
   ],
   "source": [
    "RAW_DATA_FEATURE_SPEC"
   ]
  },
  {
   "cell_type": "code",
   "execution_count": 7,
   "metadata": {},
   "outputs": [],
   "source": [
    "def preprocessing_fn(inputs):\n",
    "    outputs = inputs.copy()\n",
    "\n",
    "    for key in ['1stFlrSF', 'GrLivArea', 'LotArea']:\n",
    "        outputs[key] = tf.math.log(outputs[key])\n",
    "    \n",
    "    for key in ['Neighborhood']:\n",
    "        outputs[key] = tft.compute_and_apply_vocabulary(outputs[key])\n",
    "\n",
    "    return {'1stFlrSF': outputs['1stFlrSF'],\n",
    "            'GrLivArea': outputs['GrLivArea'],\n",
    "            'LotArea': outputs['LotArea'],\n",
    "            'Neighborhood': outputs['Neighborhood']}"
   ]
  },
  {
   "cell_type": "code",
   "execution_count": 8,
   "metadata": {},
   "outputs": [
    {
     "name": "stdout",
     "output_type": "stream",
     "text": [
      "WARNING:tensorflow:Tensorflow version (2.1.0) found. Note that Tensorflow Transform support for TF 2.0 is currently in beta, and features such as tf.function may not work as intended. \n"
     ]
    },
    {
     "name": "stderr",
     "output_type": "stream",
     "text": [
      "WARNING:tensorflow:Tensorflow version (2.1.0) found. Note that Tensorflow Transform support for TF 2.0 is currently in beta, and features such as tf.function may not work as intended. \n"
     ]
    },
    {
     "name": "stdout",
     "output_type": "stream",
     "text": [
      "WARNING:tensorflow:Tensorflow version (2.1.0) found. Note that Tensorflow Transform support for TF 2.0 is currently in beta, and features such as tf.function may not work as intended. \n"
     ]
    },
    {
     "name": "stderr",
     "output_type": "stream",
     "text": [
      "WARNING:tensorflow:Tensorflow version (2.1.0) found. Note that Tensorflow Transform support for TF 2.0 is currently in beta, and features such as tf.function may not work as intended. \n"
     ]
    },
    {
     "name": "stdout",
     "output_type": "stream",
     "text": [
      "WARNING:tensorflow:From /Users/ruslan.kozhuharov/venvs/tf/lib/python3.7/site-packages/tensorflow_core/python/saved_model/signature_def_utils_impl.py:201: build_tensor_info (from tensorflow.python.saved_model.utils_impl) is deprecated and will be removed in a future version.\n",
      "Instructions for updating:\n",
      "This function will only be available through the v1 compatibility library as tf.compat.v1.saved_model.utils.build_tensor_info or tf.compat.v1.saved_model.build_tensor_info.\n"
     ]
    },
    {
     "name": "stderr",
     "output_type": "stream",
     "text": [
      "WARNING:tensorflow:From /Users/ruslan.kozhuharov/venvs/tf/lib/python3.7/site-packages/tensorflow_core/python/saved_model/signature_def_utils_impl.py:201: build_tensor_info (from tensorflow.python.saved_model.utils_impl) is deprecated and will be removed in a future version.\n",
      "Instructions for updating:\n",
      "This function will only be available through the v1 compatibility library as tf.compat.v1.saved_model.utils.build_tensor_info or tf.compat.v1.saved_model.build_tensor_info.\n"
     ]
    },
    {
     "name": "stdout",
     "output_type": "stream",
     "text": [
      "INFO:tensorflow:Assets added to graph.\n"
     ]
    },
    {
     "name": "stderr",
     "output_type": "stream",
     "text": [
      "INFO:tensorflow:Assets added to graph.\n"
     ]
    },
    {
     "name": "stdout",
     "output_type": "stream",
     "text": [
      "INFO:tensorflow:No assets to write.\n"
     ]
    },
    {
     "name": "stderr",
     "output_type": "stream",
     "text": [
      "INFO:tensorflow:No assets to write.\n"
     ]
    },
    {
     "name": "stdout",
     "output_type": "stream",
     "text": [
      "WARNING:tensorflow:Issue encountered when serializing tft_mapper_use.\n",
      "Type is unsupported, or the types of the items don't match field type in CollectionDef. Note this is a warning and probably safe to ignore.\n",
      "'Counter' object has no attribute 'name'\n"
     ]
    },
    {
     "name": "stderr",
     "output_type": "stream",
     "text": [
      "WARNING:tensorflow:Issue encountered when serializing tft_mapper_use.\n",
      "Type is unsupported, or the types of the items don't match field type in CollectionDef. Note this is a warning and probably safe to ignore.\n",
      "'Counter' object has no attribute 'name'\n"
     ]
    },
    {
     "name": "stdout",
     "output_type": "stream",
     "text": [
      "INFO:tensorflow:SavedModel written to: /var/folders/kv/kjpm8x653fz2vnzbl7q4bwhmbf_6tj/T/tmpt1yjgg92/tftransform_tmp/250e557d20e7489bad54f1b972f3ad46/saved_model.pb\n"
     ]
    },
    {
     "name": "stderr",
     "output_type": "stream",
     "text": [
      "INFO:tensorflow:SavedModel written to: /var/folders/kv/kjpm8x653fz2vnzbl7q4bwhmbf_6tj/T/tmpt1yjgg92/tftransform_tmp/250e557d20e7489bad54f1b972f3ad46/saved_model.pb\n"
     ]
    },
    {
     "name": "stdout",
     "output_type": "stream",
     "text": [
      "INFO:tensorflow:Assets added to graph.\n"
     ]
    },
    {
     "name": "stderr",
     "output_type": "stream",
     "text": [
      "INFO:tensorflow:Assets added to graph.\n"
     ]
    },
    {
     "name": "stdout",
     "output_type": "stream",
     "text": [
      "INFO:tensorflow:No assets to write.\n"
     ]
    },
    {
     "name": "stderr",
     "output_type": "stream",
     "text": [
      "INFO:tensorflow:No assets to write.\n"
     ]
    },
    {
     "name": "stdout",
     "output_type": "stream",
     "text": [
      "WARNING:tensorflow:Issue encountered when serializing tft_mapper_use.\n",
      "Type is unsupported, or the types of the items don't match field type in CollectionDef. Note this is a warning and probably safe to ignore.\n",
      "'Counter' object has no attribute 'name'\n"
     ]
    },
    {
     "name": "stderr",
     "output_type": "stream",
     "text": [
      "WARNING:tensorflow:Issue encountered when serializing tft_mapper_use.\n",
      "Type is unsupported, or the types of the items don't match field type in CollectionDef. Note this is a warning and probably safe to ignore.\n",
      "'Counter' object has no attribute 'name'\n"
     ]
    },
    {
     "name": "stdout",
     "output_type": "stream",
     "text": [
      "INFO:tensorflow:SavedModel written to: /var/folders/kv/kjpm8x653fz2vnzbl7q4bwhmbf_6tj/T/tmpt1yjgg92/tftransform_tmp/9aa1bbe5bf79442ba749067b7e8ab96d/saved_model.pb\n"
     ]
    },
    {
     "name": "stderr",
     "output_type": "stream",
     "text": [
      "INFO:tensorflow:SavedModel written to: /var/folders/kv/kjpm8x653fz2vnzbl7q4bwhmbf_6tj/T/tmpt1yjgg92/tftransform_tmp/9aa1bbe5bf79442ba749067b7e8ab96d/saved_model.pb\n"
     ]
    },
    {
     "name": "stdout",
     "output_type": "stream",
     "text": [
      "WARNING:tensorflow:Tensorflow version (2.1.0) found. Note that Tensorflow Transform support for TF 2.0 is currently in beta, and features such as tf.function may not work as intended. \n"
     ]
    },
    {
     "name": "stderr",
     "output_type": "stream",
     "text": [
      "WARNING:tensorflow:Tensorflow version (2.1.0) found. Note that Tensorflow Transform support for TF 2.0 is currently in beta, and features such as tf.function may not work as intended. \n"
     ]
    },
    {
     "name": "stdout",
     "output_type": "stream",
     "text": [
      "INFO:tensorflow:Saver not created because there are no variables in the graph to restore\n"
     ]
    },
    {
     "name": "stderr",
     "output_type": "stream",
     "text": [
      "INFO:tensorflow:Saver not created because there are no variables in the graph to restore\n"
     ]
    },
    {
     "name": "stdout",
     "output_type": "stream",
     "text": [
      "INFO:tensorflow:Saver not created because there are no variables in the graph to restore\n"
     ]
    },
    {
     "name": "stderr",
     "output_type": "stream",
     "text": [
      "INFO:tensorflow:Saver not created because there are no variables in the graph to restore\n"
     ]
    },
    {
     "name": "stdout",
     "output_type": "stream",
     "text": [
      "INFO:tensorflow:Assets added to graph.\n"
     ]
    },
    {
     "name": "stderr",
     "output_type": "stream",
     "text": [
      "INFO:tensorflow:Assets added to graph.\n"
     ]
    },
    {
     "name": "stdout",
     "output_type": "stream",
     "text": [
      "INFO:tensorflow:Assets written to: /var/folders/kv/kjpm8x653fz2vnzbl7q4bwhmbf_6tj/T/tmpt1yjgg92/tftransform_tmp/8acaf3622d4e44b7b55408486576803e/assets\n"
     ]
    },
    {
     "name": "stderr",
     "output_type": "stream",
     "text": [
      "INFO:tensorflow:Assets written to: /var/folders/kv/kjpm8x653fz2vnzbl7q4bwhmbf_6tj/T/tmpt1yjgg92/tftransform_tmp/8acaf3622d4e44b7b55408486576803e/assets\n"
     ]
    },
    {
     "name": "stdout",
     "output_type": "stream",
     "text": [
      "INFO:tensorflow:SavedModel written to: /var/folders/kv/kjpm8x653fz2vnzbl7q4bwhmbf_6tj/T/tmpt1yjgg92/tftransform_tmp/8acaf3622d4e44b7b55408486576803e/saved_model.pb\n"
     ]
    },
    {
     "name": "stderr",
     "output_type": "stream",
     "text": [
      "INFO:tensorflow:SavedModel written to: /var/folders/kv/kjpm8x653fz2vnzbl7q4bwhmbf_6tj/T/tmpt1yjgg92/tftransform_tmp/8acaf3622d4e44b7b55408486576803e/saved_model.pb\n"
     ]
    },
    {
     "name": "stdout",
     "output_type": "stream",
     "text": [
      "WARNING:tensorflow:Expected binary or unicode string, got type_url: \"type.googleapis.com/tensorflow.AssetFileDef\"\n",
      "value: \"\\n\\013\\n\\tConst_1:0\\022-vocab_compute_and_apply_vocabulary_vocabulary\"\n",
      "\n"
     ]
    },
    {
     "name": "stderr",
     "output_type": "stream",
     "text": [
      "WARNING:tensorflow:Expected binary or unicode string, got type_url: \"type.googleapis.com/tensorflow.AssetFileDef\"\n",
      "value: \"\\n\\013\\n\\tConst_1:0\\022-vocab_compute_and_apply_vocabulary_vocabulary\"\n",
      "\n"
     ]
    },
    {
     "name": "stdout",
     "output_type": "stream",
     "text": [
      "INFO:tensorflow:Saver not created because there are no variables in the graph to restore\n"
     ]
    },
    {
     "name": "stderr",
     "output_type": "stream",
     "text": [
      "INFO:tensorflow:Saver not created because there are no variables in the graph to restore\n"
     ]
    },
    {
     "name": "stdout",
     "output_type": "stream",
     "text": [
      "WARNING:tensorflow:Expected binary or unicode string, got type_url: \"type.googleapis.com/tensorflow.AssetFileDef\"\n",
      "value: \"\\n\\013\\n\\tConst_1:0\\022-vocab_compute_and_apply_vocabulary_vocabulary\"\n",
      "\n"
     ]
    },
    {
     "name": "stderr",
     "output_type": "stream",
     "text": [
      "WARNING:tensorflow:Expected binary or unicode string, got type_url: \"type.googleapis.com/tensorflow.AssetFileDef\"\n",
      "value: \"\\n\\013\\n\\tConst_1:0\\022-vocab_compute_and_apply_vocabulary_vocabulary\"\n",
      "\n"
     ]
    },
    {
     "name": "stdout",
     "output_type": "stream",
     "text": [
      "INFO:tensorflow:Saver not created because there are no variables in the graph to restore\n"
     ]
    },
    {
     "name": "stderr",
     "output_type": "stream",
     "text": [
      "INFO:tensorflow:Saver not created because there are no variables in the graph to restore\n"
     ]
    }
   ],
   "source": [
    "with beam.Pipeline() as pipeline:\n",
    "    with tft_beam.Context(temp_dir=tempfile.mkdtemp()):\n",
    "        transformed_dataset, transform_fn = ((train.to_dict(orient='records'), RAW_DATA_METADATA) | tft_beam.AnalyzeAndTransformDataset(preprocessing_fn))\n",
    "        transformed_train, transformed_metadata = transformed_dataset"
   ]
  },
  {
   "cell_type": "code",
   "execution_count": 9,
   "metadata": {},
   "outputs": [
    {
     "data": {
      "text/plain": [
       "[{'1stFlrSF': 7.1808314,\n",
       "  'GrLivArea': 7.1808314,\n",
       "  'LotArea': 9.035987,\n",
       "  'Neighborhood': 0},\n",
       " {'1stFlrSF': 6.683361,\n",
       "  'GrLivArea': 7.3594675,\n",
       "  'LotArea': 8.966612,\n",
       "  'Neighborhood': 6},\n",
       " {'1stFlrSF': 6.6795993,\n",
       "  'GrLivArea': 6.6795993,\n",
       "  'LotArea': 9.07989,\n",
       "  'Neighborhood': 3},\n",
       " {'1stFlrSF': 6.8885727,\n",
       "  'GrLivArea': 7.4776044,\n",
       "  'LotArea': 8.881836,\n",
       "  'Neighborhood': 16},\n",
       " {'1stFlrSF': 6.933423,\n",
       "  'GrLivArea': 7.4330754,\n",
       "  'LotArea': 8.517193,\n",
       "  'Neighborhood': 16}]"
      ]
     },
     "execution_count": 9,
     "metadata": {},
     "output_type": "execute_result"
    }
   ],
   "source": [
    "transformed_train[:5]"
   ]
  },
  {
   "cell_type": "code",
   "execution_count": null,
   "metadata": {},
   "outputs": [],
   "source": []
  }
 ],
 "metadata": {
  "kernelspec": {
   "display_name": "Python 3",
   "language": "python",
   "name": "python3"
  },
  "language_info": {
   "codemirror_mode": {
    "name": "ipython",
    "version": 3
   },
   "file_extension": ".py",
   "mimetype": "text/x-python",
   "name": "python",
   "nbconvert_exporter": "python",
   "pygments_lexer": "ipython3",
   "version": "3.7.6"
  }
 },
 "nbformat": 4,
 "nbformat_minor": 4
}
