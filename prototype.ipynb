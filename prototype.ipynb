{
 "cells": [
  {
   "cell_type": "code",
   "execution_count": 27,
   "metadata": {},
   "outputs": [],
   "source": [
    "import tempfile\n",
    "import math\n",
    "from io import BytesIO\n",
    "from google.cloud import storage\n",
    "import pandas as pd\n",
    "import numpy as np\n",
    "import tensorflow as tf\n",
    "from tensorflow_transform import coders\n",
    "from tensorflow_transform.tf_metadata import dataset_metadata\n",
    "from tensorflow_transform.tf_metadata import schema_utils\n",
    "import tensorflow_transform.beam as tft_beam\n",
    "import tensorflow_transform as tft\n",
    "import apache_beam as beam\n",
    "from sklearn import model_selection"
   ]
  },
  {
   "cell_type": "code",
   "execution_count": 3,
   "metadata": {},
   "outputs": [],
   "source": [
    "client = storage.Client()\n",
    "bucket = client.get_bucket('ames-house-dataset')\n",
    "blob = storage.Blob('train.csv', bucket)\n",
    "content = blob.download_as_string()\n",
    "data = pd.read_csv(BytesIO(content), index_col=0)"
   ]
  },
  {
   "cell_type": "code",
   "execution_count": 4,
   "metadata": {},
   "outputs": [],
   "source": [
    "train, test = model_selection.train_test_split(data, test_size=0.2, random_state=42)"
   ]
  },
  {
   "cell_type": "code",
   "execution_count": 18,
   "metadata": {},
   "outputs": [],
   "source": [
    "INPUT_COLS = ['MSSubClass', 'MSZoning', 'LotFrontage', 'LotArea', 'Street',\n",
    "              'Alley', 'LotShape', 'LandContour', 'Utilities', 'LotConfig',\n",
    "              'LandSlope', 'Neighborhood', 'Condition1', 'Condition2',\n",
    "              'BldgType', 'HouseStyle', 'OverallQual', 'OverallCond',\n",
    "              'YearBuilt', 'YearRemodAdd', 'RoofStyle', 'RoofMatl',\n",
    "              'Exterior1st', 'Exterior2nd', 'MasVnrType', 'MasVnrArea',\n",
    "              'ExterQual', 'ExterCond', 'Foundation', 'BsmtQual',\n",
    "              'BsmtCond', 'BsmtExposure', 'BsmtFinType1', 'BsmtFinSF1',\n",
    "              'BsmtFinType2', 'BsmtFinSF2', 'BsmtUnfSF', 'TotalBsmtSF',\n",
    "              'Heating', 'HeatingQC', 'CentralAir', 'Electrical',\n",
    "              '1stFlrSF', '2ndFlrSF', 'LowQualFinSF', 'GrLivArea',\n",
    "              'BsmtFullBath', 'BsmtHalfBath', 'FullBath', 'HalfBath',\n",
    "              'BedroomAbvGr', 'KitchenAbvGr', 'KitchenQual', 'TotRmsAbvGrd',\n",
    "              'Functional', 'Fireplaces', 'FireplaceQu', 'GarageType',\n",
    "              'GarageYrBlt', 'GarageFinish', 'GarageCars', 'GarageArea',\n",
    "              'GarageQual', 'GarageCond', 'PavedDrive', 'WoodDeckSF',\n",
    "              'OpenPorchSF', 'EnclosedPorch', '3SsnPorch', 'ScreenPorch',\n",
    "              'PoolArea', 'PoolQC', 'Fence', 'MiscFeature', 'MiscVal',\n",
    "              'MoSold', 'YrSold', 'SaleType', 'SaleCondition', 'SalePrice']\n",
    "\n",
    "\n",
    "OPT_CAT_FEATURES = ['Alley', 'MasVnrType', 'BsmtQual', 'BsmtCond',\n",
    "                    'BsmtExposure', 'BsmtFinType1', 'BsmtFinType2',\n",
    "                    'Electrical', 'FireplaceQu', 'GarageType', 'GarageFinish',\n",
    "                    'GarageQual', 'GarageCond', 'PoolQC', 'Fence',\n",
    "                    'MiscFeature']\n",
    "\n",
    "\n",
    "OPT_NUM_FEATURES = ['LotFrontage', 'MasVnrArea', 'GarageYrBlt']\n",
    "\n",
    "\n",
    "CAT_FEATURES = ['MSZoning', 'Street', 'LotShape', 'LandContour', 'Utilities',\n",
    "                'LotConfig', 'LandSlope', 'Neighborhood', 'Condition1',\n",
    "                'Condition2', 'BldgType', 'HouseStyle', 'RoofStyle',\n",
    "                'RoofMatl', 'Exterior1st', 'Exterior2nd', 'ExterQual',\n",
    "                'ExterCond', 'Foundation', 'Heating', 'HeatingQC',\n",
    "                'CentralAir', 'KitchenQual', 'Functional', 'PavedDrive',\n",
    "                'SaleType', 'SaleCondition']\n",
    "\n",
    "\n",
    "NUM_FEATURES = ['MSSubClass', 'LotArea', 'OverallQual', 'OverallCond',\n",
    "                'YearBuilt', 'YearRemodAdd', 'BsmtFinSF1', 'BsmtFinSF2',\n",
    "                'BsmtUnfSF', 'TotalBsmtSF', '1stFlrSF', '2ndFlrSF',\n",
    "                'LowQualFinSF', 'GrLivArea', 'BsmtFullBath', 'BsmtHalfBath',\n",
    "                'FullBath', 'HalfBath', 'BedroomAbvGr', 'KitchenAbvGr',\n",
    "                'TotRmsAbvGrd', 'Fireplaces', 'GarageCars', 'GarageArea',\n",
    "                'WoodDeckSF', 'OpenPorchSF', 'EnclosedPorch', '3SsnPorch',\n",
    "                'ScreenPorch', 'PoolArea', 'MiscVal', 'MoSold', 'YrSold']\n",
    "\n",
    "\n",
    "TARGET = 'SalePrice'\n",
    "\n",
    "\n",
    "RAW_DATA_FEATURE_SPEC = dict(\n",
    "    [(name, tf.io.FixedLenFeature([], tf.string)) for name in CAT_FEATURES]\n",
    "    + [(name, tf.io.FixedLenFeature([], tf.float32)) for name in NUM_FEATURES]\n",
    "    + [(name, tf.io.VarLenFeature(tf.string)) for name in OPT_CAT_FEATURES]\n",
    "    + [(name, tf.io.VarLenFeature(tf.float32)) for name in OPT_NUM_FEATURES]\n",
    "    + [(TARGET, tf.io.FixedLenFeature([], tf.float32))])"
   ]
  },
  {
   "cell_type": "code",
   "execution_count": 19,
   "metadata": {},
   "outputs": [],
   "source": [
    "RAW_DATA_METADATA = dataset_metadata.DatasetMetadata(schema_utils.schema_from_feature_spec(RAW_DATA_FEATURE_SPEC))"
   ]
  },
  {
   "cell_type": "code",
   "execution_count": 25,
   "metadata": {},
   "outputs": [],
   "source": [
    "INPUT_SCHEMA = schema_utils.schema_from_feature_spec(RAW_DATA_FEATURE_SPEC)"
   ]
  },
  {
   "cell_type": "code",
   "execution_count": 28,
   "metadata": {},
   "outputs": [],
   "source": [
    "CONV_INPUT = coders.CsvCoder(INPUT_COLS, INPUT_SCHEMA)"
   ]
  },
  {
   "cell_type": "code",
   "execution_count": 8,
   "metadata": {},
   "outputs": [],
   "source": [
    "def preprocessing_fn(inputs):\n",
    "    outputs = inputs.copy()\n",
    "\n",
    "    for key in ['1stFlrSF', 'GrLivArea', 'LotArea']:\n",
    "        outputs[key] = tf.math.log(outputs[key])\n",
    "    \n",
    "    for key in ['Neighborhood']:\n",
    "        outputs[key] = tft.compute_and_apply_vocabulary(outputs[key])\n",
    "\n",
    "    return {'1stFlrSF': outputs['1stFlrSF'],\n",
    "            'GrLivArea': outputs['GrLivArea'],\n",
    "            'LotArea': outputs['LotArea'],\n",
    "            'Neighborhood': outputs['Neighborhood']}"
   ]
  },
  {
   "cell_type": "code",
   "execution_count": 21,
   "metadata": {},
   "outputs": [],
   "source": [
    "# with beam.Pipeline() as pipeline:\n",
    "#     with tft_beam.Context(temp_dir=tempfile.mkdtemp()):\n",
    "#         transformed_dataset, transform_fn = ((train.to_dict(orient='records'), RAW_DATA_METADATA) | tft_beam.AnalyzeAndTransformDataset(preprocessing_fn))\n",
    "#         transformed_train, transformed_metadata = transformed_dataset"
   ]
  },
  {
   "cell_type": "code",
   "execution_count": 34,
   "metadata": {},
   "outputs": [],
   "source": [
    "with beam.Pipeline():\n",
    "    with tft_beam.Context(temp_dir=tempfile.mkdtemp()):\n",
    "        # read data and join by key\n",
    "        raw_data_input = (\n",
    "            pipeline\n",
    "            | 'ReadInputData' >> beam.io.ReadFromText('gs://ames-house-dataset/train.csv', skip_header_lines=1)\n",
    "            | 'ParseInputCSV' >> beam.Map(CONV_INPUT.decode))"
   ]
  },
  {
   "cell_type": "code",
   "execution_count": null,
   "metadata": {},
   "outputs": [],
   "source": []
  }
 ],
 "metadata": {
  "kernelspec": {
   "display_name": "Python 3",
   "language": "python",
   "name": "python3"
  },
  "language_info": {
   "codemirror_mode": {
    "name": "ipython",
    "version": 3
   },
   "file_extension": ".py",
   "mimetype": "text/x-python",
   "name": "python",
   "nbconvert_exporter": "python",
   "pygments_lexer": "ipython3",
   "version": "3.7.6"
  }
 },
 "nbformat": 4,
 "nbformat_minor": 4
}
