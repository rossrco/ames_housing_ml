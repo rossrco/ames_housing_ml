{
 "cells": [
  {
   "cell_type": "code",
   "execution_count": 1,
   "metadata": {},
   "outputs": [],
   "source": [
    "import tempfile\n",
    "import math\n",
    "from io import BytesIO\n",
    "from google.cloud import storage\n",
    "import pandas as pd\n",
    "import numpy as np\n",
    "import tensorflow as tf\n",
    "from tensorflow_transform import coders\n",
    "from tensorflow_transform.tf_metadata import dataset_metadata\n",
    "from tensorflow_transform.tf_metadata import schema_utils\n",
    "import tensorflow_transform.beam as tft_beam\n",
    "import tensorflow_transform as tft\n",
    "import apache_beam as beam\n",
    "from sklearn import model_selection"
   ]
  },
  {
   "cell_type": "code",
   "execution_count": 2,
   "metadata": {},
   "outputs": [],
   "source": [
    "client = storage.Client()\n",
    "bucket = client.get_bucket('ames-house-dataset')\n",
    "blob = storage.Blob('train.csv', bucket)\n",
    "content = blob.download_as_string()\n",
    "data = pd.read_csv(BytesIO(content))"
   ]
  },
  {
   "cell_type": "code",
   "execution_count": 3,
   "metadata": {},
   "outputs": [],
   "source": [
    "train, test = model_selection.train_test_split(data, test_size=0.2, random_state=42)"
   ]
  },
  {
   "cell_type": "code",
   "execution_count": 4,
   "metadata": {},
   "outputs": [],
   "source": [
    "train_file_name = 'gs://ames-house-dataset/train.csv'\n",
    "test_file_name = 'gs://ames-house-dataset/test.csv'\n",
    "\n",
    "INPUT_COLS = ['Id', 'MSSubClass', 'MSZoning', 'LotFrontage', 'LotArea', 'Street',\n",
    "              'Alley', 'LotShape', 'LandContour', 'Utilities', 'LotConfig',\n",
    "              'LandSlope', 'Neighborhood', 'Condition1', 'Condition2',\n",
    "              'BldgType', 'HouseStyle', 'OverallQual', 'OverallCond', 'YearBuilt',\n",
    "              'YearRemodAdd', 'RoofStyle', 'RoofMatl', 'Exterior1st', 'Exterior2nd',\n",
    "              'MasVnrType', 'MasVnrArea', 'ExterQual', 'ExterCond', 'Foundation',\n",
    "              'BsmtQual', 'BsmtCond', 'BsmtExposure', 'BsmtFinType1', 'BsmtFinSF1',\n",
    "              'BsmtFinType2', 'BsmtFinSF2', 'BsmtUnfSF', 'TotalBsmtSF', 'Heating',\n",
    "              'HeatingQC', 'CentralAir', 'Electrical', '1stFlrSF', '2ndFlrSF',\n",
    "              'LowQualFinSF', 'GrLivArea', 'BsmtFullBath', 'BsmtHalfBath',\n",
    "              'FullBath', 'HalfBath', 'BedroomAbvGr', 'KitchenAbvGr', 'KitchenQual',\n",
    "              'TotRmsAbvGrd', 'Functional', 'Fireplaces', 'FireplaceQu', 'GarageType',\n",
    "              'GarageYrBlt', 'GarageFinish', 'GarageCars', 'GarageArea', 'GarageQual',\n",
    "              'GarageCond', 'PavedDrive', 'WoodDeckSF', 'OpenPorchSF', 'EnclosedPorch',\n",
    "              '3SsnPorch', 'ScreenPorch', 'PoolArea', 'PoolQC', 'Fence', 'MiscFeature',\n",
    "              'MiscVal', 'MoSold', 'YrSold', 'SaleType', 'SaleCondition', 'SalePrice']\n",
    "\n",
    "\n",
    "OPT_CAT_FEATURES = ['Alley', 'MasVnrType', 'BsmtQual', 'BsmtCond',\n",
    "                    'BsmtExposure', 'BsmtFinType1', 'BsmtFinType2',\n",
    "                    'Electrical', 'FireplaceQu', 'GarageType', 'GarageFinish',\n",
    "                    'GarageQual', 'GarageCond', 'PoolQC', 'Fence',\n",
    "                    'MiscFeature']\n",
    "\n",
    "\n",
    "OPT_NUM_FEATURES = ['LotFrontage', 'MasVnrArea', 'GarageYrBlt']\n",
    "\n",
    "\n",
    "CAT_FEATURES = ['MSZoning', 'Street', 'LotShape', 'LandContour', 'Utilities',\n",
    "                'LotConfig', 'LandSlope', 'Neighborhood', 'Condition1',\n",
    "                'Condition2', 'BldgType', 'HouseStyle', 'RoofStyle',\n",
    "                'RoofMatl', 'Exterior1st', 'Exterior2nd', 'ExterQual',\n",
    "                'ExterCond', 'Foundation', 'Heating', 'HeatingQC',\n",
    "                'CentralAir', 'KitchenQual', 'Functional', 'PavedDrive',\n",
    "                'SaleType', 'SaleCondition']\n",
    "\n",
    "\n",
    "NUM_FEATURES = ['MSSubClass', 'LotArea', 'OverallQual', 'OverallCond',\n",
    "                'YearBuilt', 'YearRemodAdd', 'BsmtFinSF1', 'BsmtFinSF2',\n",
    "                'BsmtUnfSF', 'TotalBsmtSF', '1stFlrSF', '2ndFlrSF',\n",
    "                'LowQualFinSF', 'GrLivArea', 'BsmtFullBath', 'BsmtHalfBath',\n",
    "                'FullBath', 'HalfBath', 'BedroomAbvGr', 'KitchenAbvGr',\n",
    "                'TotRmsAbvGrd', 'Fireplaces', 'GarageCars', 'GarageArea',\n",
    "                'WoodDeckSF', 'OpenPorchSF', 'EnclosedPorch', '3SsnPorch',\n",
    "                'ScreenPorch', 'PoolArea', 'MiscVal', 'MoSold', 'YrSold']\n",
    "\n",
    "\n",
    "TARGET = 'SalePrice'\n",
    "\n",
    "\n",
    "RAW_DATA_FEATURE_SPEC = dict(\n",
    "    [(name, tf.io.FixedLenFeature([], tf.string)) for name in CAT_FEATURES]\n",
    "    + [(name, tf.io.FixedLenFeature([], tf.float32)) for name in NUM_FEATURES]\n",
    "    + [(name, tf.io.VarLenFeature(tf.string)) for name in OPT_CAT_FEATURES]\n",
    "    + [(name, tf.io.VarLenFeature(tf.float32)) for name in OPT_NUM_FEATURES]\n",
    "    + [(TARGET, tf.io.FixedLenFeature([], tf.float32))])\n",
    "\n",
    "RAW_DATA_METADATA = dataset_metadata.DatasetMetadata(schema_utils.schema_from_feature_spec(RAW_DATA_FEATURE_SPEC))\n",
    "INPUT_SCHEMA = schema_utils.schema_from_feature_spec(RAW_DATA_FEATURE_SPEC)\n",
    "CONV_INPUT = coders.CsvCoder(INPUT_COLS, INPUT_SCHEMA)"
   ]
  },
  {
   "cell_type": "code",
   "execution_count": 5,
   "metadata": {},
   "outputs": [],
   "source": [
    "class MapAndFilterErrors(beam.PTransform):\n",
    "    \"\"\"Like beam.Map but filters out errors in the map_fn.\"\"\"\n",
    "\n",
    "    class _MapAndFilterErrorsDoFn(beam.DoFn):\n",
    "        \"\"\"Count the bad examples using a beam metric.\"\"\"\n",
    "\n",
    "        def __init__(self, fn):\n",
    "            self._fn = fn\n",
    "            # Create a counter to measure number of bad elements.\n",
    "            self._bad_elements_counter = beam.metrics.Metrics.counter('dataset', 'bad_elements')\n",
    "\n",
    "        def process(self, element):\n",
    "            try:\n",
    "                yield self._fn(element)\n",
    "            except Exception:  # pylint: disable=broad-except\n",
    "                # Catch any exception the above call.\n",
    "                self._bad_elements_counter.inc(1)\n",
    "\n",
    "    def __init__(self, fn):\n",
    "        self._fn = fn\n",
    "\n",
    "    def expand(self, pcoll):\n",
    "        return pcoll | beam.ParDo(self._MapAndFilterErrorsDoFn(self._fn))"
   ]
  },
  {
   "cell_type": "code",
   "execution_count": 6,
   "metadata": {},
   "outputs": [],
   "source": [
    "def preprocessing_fn(inputs):\n",
    "    outputs = inputs.copy()\n",
    "    for key in ['1stFlrSF', 'GrLivArea', 'LotArea']:\n",
    "        outputs[key] = tf.math.log(outputs[key])\n",
    "    \n",
    "    # for key in ['Neighborhood']:\n",
    "    #     outputs[key] = tft.compute_and_apply_vocabulary(outputs[key])\n",
    "    tft.vocabulary(inputs['Neighborhood'], vocab_filename='Neighborhood')\n",
    "    \n",
    "    return {'1stFlrSF': outputs['1stFlrSF'],\n",
    "            'GrLivArea': outputs['GrLivArea'],\n",
    "            'LotArea': outputs['LotArea'],\n",
    "            'Neighborhood': outputs['Neighborhood'],\n",
    "            'SalePrice': outputs['SalePrice']}"
   ]
  },
  {
   "cell_type": "code",
   "execution_count": 8,
   "metadata": {},
   "outputs": [
    {
     "name": "stdout",
     "output_type": "stream",
     "text": [
      "WARNING:tensorflow:Tensorflow version (2.1.0) found. Note that Tensorflow Transform support for TF 2.0 is currently in beta, and features such as tf.function may not work as intended. \n"
     ]
    },
    {
     "name": "stderr",
     "output_type": "stream",
     "text": [
      "WARNING:tensorflow:Tensorflow version (2.1.0) found. Note that Tensorflow Transform support for TF 2.0 is currently in beta, and features such as tf.function may not work as intended. \n"
     ]
    },
    {
     "name": "stdout",
     "output_type": "stream",
     "text": [
      "WARNING:tensorflow:Tensorflow version (2.1.0) found. Note that Tensorflow Transform support for TF 2.0 is currently in beta, and features such as tf.function may not work as intended. \n"
     ]
    },
    {
     "name": "stderr",
     "output_type": "stream",
     "text": [
      "WARNING:tensorflow:Tensorflow version (2.1.0) found. Note that Tensorflow Transform support for TF 2.0 is currently in beta, and features such as tf.function may not work as intended. \n"
     ]
    },
    {
     "name": "stdout",
     "output_type": "stream",
     "text": [
      "INFO:tensorflow:Assets added to graph.\n"
     ]
    },
    {
     "name": "stderr",
     "output_type": "stream",
     "text": [
      "INFO:tensorflow:Assets added to graph.\n"
     ]
    },
    {
     "name": "stdout",
     "output_type": "stream",
     "text": [
      "INFO:tensorflow:No assets to write.\n"
     ]
    },
    {
     "name": "stderr",
     "output_type": "stream",
     "text": [
      "INFO:tensorflow:No assets to write.\n"
     ]
    },
    {
     "name": "stdout",
     "output_type": "stream",
     "text": [
      "WARNING:tensorflow:Issue encountered when serializing tft_analyzer_use.\n",
      "Type is unsupported, or the types of the items don't match field type in CollectionDef. Note this is a warning and probably safe to ignore.\n",
      "'Counter' object has no attribute 'name'\n"
     ]
    },
    {
     "name": "stderr",
     "output_type": "stream",
     "text": [
      "WARNING:tensorflow:Issue encountered when serializing tft_analyzer_use.\n",
      "Type is unsupported, or the types of the items don't match field type in CollectionDef. Note this is a warning and probably safe to ignore.\n",
      "'Counter' object has no attribute 'name'\n"
     ]
    },
    {
     "name": "stdout",
     "output_type": "stream",
     "text": [
      "INFO:tensorflow:SavedModel written to: /var/folders/kv/kjpm8x653fz2vnzbl7q4bwhmbf_6tj/T/tmp2nnfqebd/tftransform_tmp/6d39d57669a94edcb1ef958b4d184f34/saved_model.pb\n"
     ]
    },
    {
     "name": "stderr",
     "output_type": "stream",
     "text": [
      "INFO:tensorflow:SavedModel written to: /var/folders/kv/kjpm8x653fz2vnzbl7q4bwhmbf_6tj/T/tmp2nnfqebd/tftransform_tmp/6d39d57669a94edcb1ef958b4d184f34/saved_model.pb\n"
     ]
    },
    {
     "name": "stdout",
     "output_type": "stream",
     "text": [
      "INFO:tensorflow:Assets added to graph.\n"
     ]
    },
    {
     "name": "stderr",
     "output_type": "stream",
     "text": [
      "INFO:tensorflow:Assets added to graph.\n"
     ]
    },
    {
     "name": "stdout",
     "output_type": "stream",
     "text": [
      "INFO:tensorflow:No assets to write.\n"
     ]
    },
    {
     "name": "stderr",
     "output_type": "stream",
     "text": [
      "INFO:tensorflow:No assets to write.\n"
     ]
    },
    {
     "name": "stdout",
     "output_type": "stream",
     "text": [
      "WARNING:tensorflow:Issue encountered when serializing tft_analyzer_use.\n",
      "Type is unsupported, or the types of the items don't match field type in CollectionDef. Note this is a warning and probably safe to ignore.\n",
      "'Counter' object has no attribute 'name'\n"
     ]
    },
    {
     "name": "stderr",
     "output_type": "stream",
     "text": [
      "WARNING:tensorflow:Issue encountered when serializing tft_analyzer_use.\n",
      "Type is unsupported, or the types of the items don't match field type in CollectionDef. Note this is a warning and probably safe to ignore.\n",
      "'Counter' object has no attribute 'name'\n"
     ]
    },
    {
     "name": "stdout",
     "output_type": "stream",
     "text": [
      "INFO:tensorflow:SavedModel written to: /var/folders/kv/kjpm8x653fz2vnzbl7q4bwhmbf_6tj/T/tmp2nnfqebd/tftransform_tmp/8cf3d307d1f643e7bc40fdd7c9b8bb1a/saved_model.pb\n"
     ]
    },
    {
     "name": "stderr",
     "output_type": "stream",
     "text": [
      "INFO:tensorflow:SavedModel written to: /var/folders/kv/kjpm8x653fz2vnzbl7q4bwhmbf_6tj/T/tmp2nnfqebd/tftransform_tmp/8cf3d307d1f643e7bc40fdd7c9b8bb1a/saved_model.pb\n"
     ]
    },
    {
     "name": "stdout",
     "output_type": "stream",
     "text": [
      "WARNING:tensorflow:Tensorflow version (2.1.0) found. Note that Tensorflow Transform support for TF 2.0 is currently in beta, and features such as tf.function may not work as intended. \n"
     ]
    },
    {
     "name": "stderr",
     "output_type": "stream",
     "text": [
      "WARNING:tensorflow:Tensorflow version (2.1.0) found. Note that Tensorflow Transform support for TF 2.0 is currently in beta, and features such as tf.function may not work as intended. \n"
     ]
    },
    {
     "name": "stdout",
     "output_type": "stream",
     "text": [
      "WARNING:tensorflow:Tensorflow version (2.1.0) found. Note that Tensorflow Transform support for TF 2.0 is currently in beta, and features such as tf.function may not work as intended. \n"
     ]
    },
    {
     "name": "stderr",
     "output_type": "stream",
     "text": [
      "WARNING:tensorflow:Tensorflow version (2.1.0) found. Note that Tensorflow Transform support for TF 2.0 is currently in beta, and features such as tf.function may not work as intended. \n"
     ]
    },
    {
     "name": "stdout",
     "output_type": "stream",
     "text": [
      "INFO:tensorflow:Saver not created because there are no variables in the graph to restore\n"
     ]
    },
    {
     "name": "stderr",
     "output_type": "stream",
     "text": [
      "INFO:tensorflow:Saver not created because there are no variables in the graph to restore\n"
     ]
    },
    {
     "name": "stdout",
     "output_type": "stream",
     "text": [
      "INFO:tensorflow:Saver not created because there are no variables in the graph to restore\n"
     ]
    },
    {
     "name": "stderr",
     "output_type": "stream",
     "text": [
      "INFO:tensorflow:Saver not created because there are no variables in the graph to restore\n"
     ]
    },
    {
     "name": "stdout",
     "output_type": "stream",
     "text": [
      "INFO:tensorflow:Assets added to graph.\n"
     ]
    },
    {
     "name": "stderr",
     "output_type": "stream",
     "text": [
      "INFO:tensorflow:Assets added to graph.\n"
     ]
    },
    {
     "name": "stdout",
     "output_type": "stream",
     "text": [
      "INFO:tensorflow:Assets written to: /var/folders/kv/kjpm8x653fz2vnzbl7q4bwhmbf_6tj/T/tmp2nnfqebd/tftransform_tmp/8b838fa5ac6c46e5bcfcbb8f2b09f973/assets\n"
     ]
    },
    {
     "name": "stderr",
     "output_type": "stream",
     "text": [
      "INFO:tensorflow:Assets written to: /var/folders/kv/kjpm8x653fz2vnzbl7q4bwhmbf_6tj/T/tmp2nnfqebd/tftransform_tmp/8b838fa5ac6c46e5bcfcbb8f2b09f973/assets\n"
     ]
    },
    {
     "name": "stdout",
     "output_type": "stream",
     "text": [
      "INFO:tensorflow:SavedModel written to: /var/folders/kv/kjpm8x653fz2vnzbl7q4bwhmbf_6tj/T/tmp2nnfqebd/tftransform_tmp/8b838fa5ac6c46e5bcfcbb8f2b09f973/saved_model.pb\n"
     ]
    },
    {
     "name": "stderr",
     "output_type": "stream",
     "text": [
      "INFO:tensorflow:SavedModel written to: /var/folders/kv/kjpm8x653fz2vnzbl7q4bwhmbf_6tj/T/tmp2nnfqebd/tftransform_tmp/8b838fa5ac6c46e5bcfcbb8f2b09f973/saved_model.pb\n"
     ]
    },
    {
     "name": "stdout",
     "output_type": "stream",
     "text": [
      "WARNING:tensorflow:Expected binary or unicode string, got type_url: \"type.googleapis.com/tensorflow.AssetFileDef\"\n",
      "value: \"\\n\\013\\n\\tConst_1:0\\022\\014Neighborhood\"\n",
      "\n"
     ]
    },
    {
     "name": "stderr",
     "output_type": "stream",
     "text": [
      "WARNING:tensorflow:Expected binary or unicode string, got type_url: \"type.googleapis.com/tensorflow.AssetFileDef\"\n",
      "value: \"\\n\\013\\n\\tConst_1:0\\022\\014Neighborhood\"\n",
      "\n"
     ]
    },
    {
     "name": "stdout",
     "output_type": "stream",
     "text": [
      "INFO:tensorflow:Saver not created because there are no variables in the graph to restore\n"
     ]
    },
    {
     "name": "stderr",
     "output_type": "stream",
     "text": [
      "INFO:tensorflow:Saver not created because there are no variables in the graph to restore\n"
     ]
    },
    {
     "name": "stdout",
     "output_type": "stream",
     "text": [
      "WARNING:tensorflow:Expected binary or unicode string, got type_url: \"type.googleapis.com/tensorflow.AssetFileDef\"\n",
      "value: \"\\n\\013\\n\\tConst_1:0\\022\\014Neighborhood\"\n",
      "\n"
     ]
    },
    {
     "name": "stderr",
     "output_type": "stream",
     "text": [
      "WARNING:tensorflow:Expected binary or unicode string, got type_url: \"type.googleapis.com/tensorflow.AssetFileDef\"\n",
      "value: \"\\n\\013\\n\\tConst_1:0\\022\\014Neighborhood\"\n",
      "\n"
     ]
    },
    {
     "name": "stdout",
     "output_type": "stream",
     "text": [
      "INFO:tensorflow:Saver not created because there are no variables in the graph to restore\n"
     ]
    },
    {
     "name": "stderr",
     "output_type": "stream",
     "text": [
      "INFO:tensorflow:Saver not created because there are no variables in the graph to restore\n",
      "WARNING:root:Couldn't find python-snappy so the implementation of _TFRecordUtil._masked_crc32c is not as fast as it could be.\n"
     ]
    }
   ],
   "source": [
    "# def transform_data(train_file_name, test_file_name):\n",
    "with beam.Pipeline() as p:\n",
    "    with tft_beam.Context(temp_dir=tempfile.mkdtemp()):\n",
    "        converter = tft.coders.CsvCoder(INPUT_COLS, RAW_DATA_METADATA.schema)\n",
    "        train_data = (p\n",
    "                      | 'read_train_data' >> beam.io.ReadFromText('gs://ames-house-dataset/train.csv', skip_header_lines=1)\n",
    "                      | 'decode_train_data' >> MapAndFilterErrors(converter.decode))\n",
    "\n",
    "        train_dataset = (train_data, RAW_DATA_METADATA)\n",
    "        transformed_train_dataset, transform_fn = (train_dataset | tft_beam.AnalyzeAndTransformDataset(preprocessing_fn))\n",
    "        transformed_train_data, transformed_metadata = transformed_train_dataset\n",
    "\n",
    "        transformed_data_coder = tft.coders.ExampleProtoCoder(transformed_metadata.schema)\n",
    "        \n",
    "        _ = (transformed_train_data\n",
    "             | 'encode_train_data' >> beam.Map(transformed_data_coder.encode)\n",
    "             | 'write_train_data' >> beam.io.WriteToTFRecord('gs://ames-house-dataset/train_transformed.csv'))\n",
    "\n",
    "        test_data = (p\n",
    "                     | 'read_test_data' >> beam.io.ReadFromText('gs://ames-house-dataset/test.csv', skip_header_lines=1)\n",
    "                     | 'decode_test_data' >> MapAndFilterErrors(converter.decode))\n",
    "        \n",
    "        test_dataset = (test_data, RAW_DATA_METADATA)\n",
    "        transformed_test_dataset = ((test_dataset, transform_fn) | tft_beam.TransformDataset())\n",
    "        transformed_test_data, _ = transformed_test_dataset\n",
    "        \n",
    "        _ = (transformed_test_data\n",
    "             | 'encode_test_data' >> beam.Map(transformed_data_coder.encode)\n",
    "             | 'write_test_data' >> beam.io.WriteToTFRecord('gs://ames-house-dataset/test_transformed.csv'))\n",
    "        \n",
    "        _ = (transform_fn\n",
    "             | 'save_transform_function' >> tft_beam.WriteTransformFn('gs://ames-house-dataset/'))"
   ]
  },
  {
   "cell_type": "code",
   "execution_count": null,
   "metadata": {},
   "outputs": [],
   "source": []
  }
 ],
 "metadata": {
  "kernelspec": {
   "display_name": "Python 3",
   "language": "python",
   "name": "python3"
  },
  "language_info": {
   "codemirror_mode": {
    "name": "ipython",
    "version": 3
   },
   "file_extension": ".py",
   "mimetype": "text/x-python",
   "name": "python",
   "nbconvert_exporter": "python",
   "pygments_lexer": "ipython3",
   "version": "3.7.6"
  }
 },
 "nbformat": 4,
 "nbformat_minor": 4
}
